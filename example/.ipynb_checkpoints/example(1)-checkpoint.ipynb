{
 "cells": [
  {
   "cell_type": "code",
   "execution_count": null,
   "metadata": {},
   "outputs": [],
   "source": [
    "import numpy as np \n",
    "import matplotlib.pyplot as plt\n",
    "\n",
    "from simple_planet import Planet, PlanetEnv_DiscEvo, FixedMigration, std_evo_comp \n",
    "from drift_composition.constants import Rau, Mearth, Msun\n",
    "from drift_composition.atoms import load_protosolar_abundances, molecule_mass\n",
    "atom_mass = molecule_mass\n",
    "\n",
    "from collections import defaultdict\n",
    "\n",
    "%matplotlib inline\n"
   ]
  },
  {
   "cell_type": "code",
   "execution_count": null,
   "metadata": {},
   "outputs": [],
   "source": [
    "Sim = 'smooth' # This is the source directory of the disc evolution simulation that you wish to post-process\n",
    "disc = None \n",
    "mig = FixedMigration(1e6)\n",
    "\n",
    "R0 = 10*Rau \n",
    "M0 = 1*Mearth\n",
    "solar = load_protosolar_abundances()"
   ]
  },
  {
   "cell_type": "code",
   "execution_count": null,
   "metadata": {},
   "outputs": [],
   "source": [
    "# Load the disc\n",
    "p_env = PlanetEnv_DiscEvo(Sim)"
   ]
  },
  {
   "cell_type": "code",
   "execution_count": null,
   "metadata": {},
   "outputs": [],
   "source": [
    "# Create a planet:\n",
    "Mc   = 0.9*M0/Msun\n",
    "Menv = 0.1*M0/Msun\n",
    "t0 = 2e4\n",
    "\n",
    "p_env.set_time(t0) # Choose the time to inject the planet.\n",
    "p_env.set_pl_comp() # Set an initial composition.\n",
    "\n",
    "sgt, sdt, _ = p_env.sigs_tot(None, R0)\n",
    "sg, sd, _ = p_env.sig_mol(None, R0)\n",
    "\n",
    "print(sg, \"\\n\", sd)\n",
    "print(sgt, sdt, sdt/sgt)\n",
    "\n",
    "pl_comp = {}\n",
    "for k in sd:\n",
    "    pl_comp[k] = np.array([Mc*sg.get(k,0)/sgt, Menv*sd[k]/sdt])\n",
    "for k in sg:\n",
    "    if k not in sd:\n",
    "        pl_comp[k] = np.array([Mc*sg.get(k,0)/sgt, 0.])\n",
    "\n",
    "planet_ini = Planet(Mc+Menv, Mc, Menv, pl_comp, R0, time=t0)"
   ]
  },
  {
   "cell_type": "code",
   "execution_count": null,
   "metadata": {},
   "outputs": [],
   "source": [
    "# Evolve the planet\n",
    "pl_evo, n = std_evo_comp(planet_ini, None, p_env, None, 0.5, 1e-5, 1000, migration=mig, final_time=3e6)"
   ]
  },
  {
   "cell_type": "code",
   "execution_count": null,
   "metadata": {},
   "outputs": [],
   "source": [
    "t = np.array([pl.time for pl in pl_evo])/1e6\n",
    "Mc = np.array([pl.mc for pl in pl_evo])*Msun/Mearth\n",
    "Menv = np.array([pl.mg for pl in pl_evo])*Msun/Mearth\n",
    "a = np.array([pl.dist for pl in pl_evo])/Rau\n",
    "\n",
    "OH =  np.array([pl.f_comp['O'].sum() / (solar['O']*(pl.mass)*atom_mass('O')) for pl in pl_evo])\n",
    "CO =  np.array([pl.f_comp['C'].sum()*atom_mass('O') / (pl.f_comp['O'].sum()*atom_mass('C')) for pl in pl_evo])\n",
    "\n",
    "\n",
    "plt.plot(t, Mc, label='core')\n",
    "plt.plot(t, Mc+Menv, label='total')\n",
    "plt.xlabel('Time [Myr]')\n",
    "plt.ylabel('Mass [$M_\\odot$]')\n",
    "plt.legend()\n",
    "\n",
    "plt.figure()\n",
    "plt.semilogy(t, a)\n",
    "plt.xlabel('Time [Myr]')\n",
    "plt.ylabel('Semi-major axis [au]')\n",
    "\n",
    "\n",
    "plt.figure()\n",
    "plt.semilogx(OH[4:], CO[4:])\n",
    "plt.xlabel('[O/H] [solar]')\n",
    "plt.ylabel('C/O ratio')"
   ]
  }
 ],
 "metadata": {
  "kernelspec": {
   "display_name": "Python 3 (ipykernel)",
   "language": "python",
   "name": "python3"
  },
  "language_info": {
   "codemirror_mode": {
    "name": "ipython",
    "version": 3
   },
   "file_extension": ".py",
   "mimetype": "text/x-python",
   "name": "python",
   "nbconvert_exporter": "python",
   "pygments_lexer": "ipython3",
   "version": "3.7.3"
  }
 },
 "nbformat": 4,
 "nbformat_minor": 2
}
